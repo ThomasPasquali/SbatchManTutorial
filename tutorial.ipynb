{
 "cells": [
  {
   "cell_type": "markdown",
   "id": "95e38213",
   "metadata": {},
   "source": [
    "# SbatchMan Hands-on Tutorial\n",
    "\n",
    "> Ensure that Jupiter is using the same venv you set up before.\n",
    "\n",
    "### First, on your local machine\n",
    "\n",
    "Let's check if SbatchMan Python API and CLI are properly installed."
   ]
  },
  {
   "cell_type": "code",
   "execution_count": null,
   "id": "1cb1f150",
   "metadata": {},
   "outputs": [],
   "source": [
    "# SbatchMan CLI\n",
    "! sbatchman --version # This is running in your shell"
   ]
  },
  {
   "cell_type": "code",
   "execution_count": null,
   "id": "37db14f2",
   "metadata": {},
   "outputs": [],
   "source": [
    "# SbatchMan Python API\n",
    "import sbatchman as sbm\n",
    "print(f'SbatchMan version: {sbm.__version__}')"
   ]
  },
  {
   "cell_type": "markdown",
   "id": "e0461364",
   "metadata": {},
   "source": [
    "### Let's give a name to our machine"
   ]
  },
  {
   "cell_type": "code",
   "execution_count": null,
   "id": "e00c0a36",
   "metadata": {},
   "outputs": [],
   "source": [
    "! sbatchman set-cluster-name local\n",
    "# You can replace `local` with another name of your choice"
   ]
  },
  {
   "cell_type": "markdown",
   "id": "4b85708c",
   "metadata": {},
   "source": [
    "Let's see if this worked."
   ]
  },
  {
   "cell_type": "code",
   "execution_count": null,
   "id": "9809a354",
   "metadata": {},
   "outputs": [],
   "source": [
    "sbm.get_cluster_name()"
   ]
  },
  {
   "cell_type": "markdown",
   "id": "7f7091a0",
   "metadata": {},
   "source": [
    "### Be Lazy (optional)\n",
    "\n",
    "Setup aliases for SbatchMan CLI commands. Checkout [https://sbatchman.readthedocs.io/en/latest/learn/aliases](https://sbatchman.readthedocs.io/en/latest/learn/aliases).\n",
    "\n",
    "> *Note:* this may not work if you run shell commands from Jupiter :( "
   ]
  },
  {
   "cell_type": "markdown",
   "id": "afba9276",
   "metadata": {},
   "source": [
    "## Let's begin with a simple example on your local machine\n",
    "\n",
    "First, create a SbatchMan Project in the current directory.\n",
    "\n",
    "This will create a folder for SbatchMan files and jobs results."
   ]
  },
  {
   "cell_type": "code",
   "execution_count": null,
   "id": "a366222f",
   "metadata": {},
   "outputs": [],
   "source": [
    "! sbatchman init"
   ]
  },
  {
   "cell_type": "markdown",
   "id": "253b7369",
   "metadata": {},
   "source": [
    "For these examples, we will consider the following files.\n",
    "Programs:\n",
    "- [programs/intro/hello_world.py](programs/intro/hello_world.py)\n",
    "- [programs/intro/fail.py](programs/intro/fail.py)\n",
    "- [programs/intro/timeout.py](programs/intro/timeout.py)\n",
    "\n",
    "Configuration YAML file:\n",
    "- [yaml_files/configs/intro.yaml](yaml_files/configs/intro.yaml)\n",
    "\n",
    "Jobs YAML files:\n",
    "- [yaml_files/jobs/intro_hello_world.yaml](yaml_files/jobs/intro_hello_world.yaml)\n",
    "- [yaml_files/jobs/intro.yaml](yaml_files/jobs/intro.yaml)\n",
    "\n",
    "Check them out!\n",
    "\n",
    "For more info check the documentation:  \n",
    "[https://sbatchman.readthedocs.io/en/latest/learn/configuration/](https://sbatchman.readthedocs.io/en/latest/learn/configuration)  \n",
    "[https://sbatchman.readthedocs.io/en/latest/learn/launching_jobs/](https://sbatchman.readthedocs.io/en/latest/learn/launching_jobs)"
   ]
  },
  {
   "cell_type": "markdown",
   "id": "fb9169b0",
   "metadata": {},
   "source": [
    "### 1) Create SbatchMan configurations"
   ]
  },
  {
   "cell_type": "code",
   "execution_count": null,
   "id": "1516c662",
   "metadata": {},
   "outputs": [],
   "source": [
    "! sbatchman configure -f yaml_files/configs/intro.yaml\n",
    "# This basically generates wrappers for your job commands \n",
    "# For lazy people `sbmc`"
   ]
  },
  {
   "cell_type": "markdown",
   "id": "8ce8157a",
   "metadata": {},
   "source": [
    "### 2) Launch HelloWorld jobs"
   ]
  },
  {
   "cell_type": "code",
   "execution_count": null,
   "id": "05c7ad5e",
   "metadata": {},
   "outputs": [],
   "source": [
    "! sbatchman launch -f yaml_files/jobs/intro_hello_world.yaml\n",
    "# For lazy people `sbml`"
   ]
  },
  {
   "cell_type": "markdown",
   "id": "d4d292c6",
   "metadata": {},
   "source": [
    "**Relative paths in the YAML are relative to the directory where the sbatchman command is run.**"
   ]
  },
  {
   "cell_type": "markdown",
   "id": "adfdb3ee",
   "metadata": {},
   "source": [
    "### 3) Check results\n",
    "\n",
    "In you shell, from this repo root folder, run:\n",
    "\n",
    "```bash\n",
    "sbatchman status\n",
    "# For lazy people `sbms`\n",
    "```"
   ]
  },
  {
   "cell_type": "markdown",
   "id": "4fa3ce7f",
   "metadata": {},
   "source": [
    "### 4) Archive jobs\n",
    "\n",
    "Keep jobs results but you won't see them in the status TUI."
   ]
  },
  {
   "cell_type": "code",
   "execution_count": null,
   "id": "e18fb26b",
   "metadata": {},
   "outputs": [],
   "source": [
    "! sbatchman archive hello_world_archived\n",
    "# `hello_world_archived` is the name of the \"archive\"\n",
    "# For lazy people `sbma`"
   ]
  },
  {
   "cell_type": "markdown",
   "id": "6915d3d6",
   "metadata": {},
   "source": [
    "### 5) Launch more interesting jobs"
   ]
  },
  {
   "cell_type": "code",
   "execution_count": null,
   "id": "782f4804",
   "metadata": {},
   "outputs": [],
   "source": [
    "! sbatchman launch -f yaml_files/jobs/intro.yaml\n",
    "# For lazy people `sbml`"
   ]
  },
  {
   "cell_type": "markdown",
   "id": "c0bb46f5",
   "metadata": {},
   "source": [
    "Check results with `sbatchman status`"
   ]
  },
  {
   "cell_type": "markdown",
   "id": "616db187",
   "metadata": {},
   "source": [
    "### Let's move on to more interesting examples\n",
    "\n",
    "Run the following command to **permanently** delete all jobs (archives as well)."
   ]
  },
  {
   "cell_type": "code",
   "execution_count": null,
   "id": "48d0ea1f",
   "metadata": {},
   "outputs": [],
   "source": [
    "! sbatchman delete-jobs --all\n",
    "# For lazy people `sbmdj`"
   ]
  },
  {
   "cell_type": "markdown",
   "id": "5f954228",
   "metadata": {},
   "source": [
    "## Approximating $\\pi$\n",
    "\n",
    "For these examples, we will consider the following files.\n",
    "Program:\n",
    "- [programs/pi/compute_pi.c](programs/pi/compute_pi.c)\n",
    "\n",
    "Configuration YAML file:\n",
    "- [yaml_files/configs/pi.yaml](yaml_files/configs/pi.yaml)\n",
    "\n",
    "Jobs YAML file:\n",
    "- [yaml_files/jobs/pi.yaml](yaml_files/jobs/intro.yaml)\n",
    "\n",
    "Check them out!\n",
    "\n",
    "### 1) Compile"
   ]
  },
  {
   "cell_type": "code",
   "execution_count": null,
   "id": "f8c12e36",
   "metadata": {},
   "outputs": [],
   "source": [
    "! make -C programs/pi all"
   ]
  },
  {
   "cell_type": "markdown",
   "id": "a85a9460",
   "metadata": {},
   "source": [
    "### 2) Create configurations"
   ]
  },
  {
   "cell_type": "code",
   "execution_count": null,
   "id": "dc0c1a4b",
   "metadata": {},
   "outputs": [],
   "source": [
    "! sbatchman configure -f yaml_files/configs/pi.yaml"
   ]
  },
  {
   "cell_type": "markdown",
   "id": "dadc2abf",
   "metadata": {},
   "source": [
    "### 3) Launch jobs"
   ]
  },
  {
   "cell_type": "code",
   "execution_count": null,
   "id": "1178acca",
   "metadata": {},
   "outputs": [],
   "source": [
    "! sbatchman launch -f yaml_files/jobs/pi.yaml"
   ]
  },
  {
   "cell_type": "markdown",
   "id": "49465e50",
   "metadata": {},
   "source": [
    "You can alway check jobs progress and results manually using `sbatchman status`"
   ]
  },
  {
   "cell_type": "markdown",
   "id": "ff9e9ae1",
   "metadata": {},
   "source": [
    "### 4) Gather and Parse results\n",
    "\n",
    "Example of Job class features"
   ]
  },
  {
   "cell_type": "code",
   "execution_count": null,
   "id": "1321d567",
   "metadata": {},
   "outputs": [],
   "source": [
    "# This is an example of Job from SbatchMan API\n",
    "from pprint import pprint\n",
    "import sbatchman as sbm\n",
    "\n",
    "job = sbm.jobs_list(status=[sbm.Status.COMPLETED])[0]\n",
    "pprint(job)\n",
    "print('\\nStd out:')\n",
    "print(job.get_stdout())\n",
    "print('\\nStd err:')\n",
    "print(job.get_stderr())\n",
    "command, pos_args, named_args = job.parse_command_args()\n",
    "print('\\nCommand:' + command)\n",
    "print('Positional args:')\n",
    "print(pos_args)\n",
    "print('Named args:')\n",
    "print(named_args)"
   ]
  },
  {
   "cell_type": "code",
   "execution_count": null,
   "id": "a953b446",
   "metadata": {},
   "outputs": [],
   "source": [
    "import re\n",
    "import pandas as pd\n",
    "import sbatchman as sbm\n",
    "\n",
    "def jobs_to_dataframe(jobs):\n",
    "    rows = []\n",
    "    for job in jobs:\n",
    "        # Threads from config_name like \"8_threads\"\n",
    "        m = re.match(r\"(\\d+)_threads\", job.config_name)\n",
    "        threads = int(m.group(1)) if m else None\n",
    "\n",
    "        # dtype and samples from tag like \"float_100000\"\n",
    "        dtype, samples = None, None\n",
    "        if job.tag and \"_\" in job.tag:\n",
    "            parts = job.tag.split(\"_\")\n",
    "            if len(parts) == 2:\n",
    "                dtype, samples = parts[0], int(parts[1])\n",
    "\n",
    "        # Parse stdout\n",
    "        stdout = job.get_stdout()\n",
    "        pi_approx, runtime = None, None\n",
    "\n",
    "        m = re.search(r\"Pi\\s*\\(\\w+\\)\\s*=\\s*([0-9.]+)\", stdout)\n",
    "        if m: pi_approx = float(m.group(1))\n",
    "\n",
    "        m = re.search(r\"Runtime\\s*=\\s*([0-9.]+)\\s*seconds\", stdout)\n",
    "        if m: runtime = float(m.group(1))\n",
    "\n",
    "        rows.append({\n",
    "            \"threads\": threads,\n",
    "            \"dtype\": dtype,\n",
    "            \"samples\": samples,\n",
    "            \"pi_approx\": pi_approx,\n",
    "            \"runtime\": runtime,\n",
    "            \"job_id\": job.job_id,\n",
    "            \"status\": job.status,\n",
    "        })\n",
    "    \n",
    "    return pd.DataFrame(rows)\n",
    "\n",
    "df = jobs_to_dataframe(sbm.jobs_list(status=[sbm.Status.COMPLETED]))\n",
    "df.sort_values(['dtype', 'threads'], inplace=True)\n",
    "\n",
    "# Save for portability\n",
    "df.to_csv('pi_results.csv', index=False)\n",
    "\n",
    "print(df)"
   ]
  },
  {
   "cell_type": "markdown",
   "id": "630a4164",
   "metadata": {},
   "source": [
    "### 5) Generate plots"
   ]
  },
  {
   "cell_type": "code",
   "execution_count": null,
   "id": "0172795f",
   "metadata": {},
   "outputs": [],
   "source": [
    "import matplotlib.pyplot as plt\n",
    "import numpy as np\n",
    "\n",
    "def plot_scaling_and_precision(df):\n",
    "    true_pi = np.pi\n",
    "\n",
    "    # Compute error\n",
    "    df = df.copy()\n",
    "    df[\"abs_error\"] = (df[\"pi_approx\"] - true_pi).abs()\n",
    "\n",
    "    # --- Scaling plot: Runtime vs Threads (fixed samples, one per dtype) ---\n",
    "    plt.figure(figsize=(6,4))\n",
    "    for dtype, group in df.groupby(\"dtype\"):\n",
    "        # pick the largest samples to emphasize scaling\n",
    "        subset = group[group[\"samples\"] == group[\"samples\"].max()]\n",
    "        plt.plot(subset[\"threads\"], subset[\"runtime\"], marker=\"o\", label=dtype)\n",
    "    plt.xticks(sorted(df['threads'].unique()))\n",
    "    plt.xlabel(\"Threads\")\n",
    "    plt.ylabel(\"Runtime (s)\")\n",
    "    plt.title(f\"Scaling with Threads (samples={df['samples'].max()})\")\n",
    "    plt.legend()\n",
    "    plt.grid(True)\n",
    "    plt.tight_layout()\n",
    "    plt.show()\n",
    "\n",
    "    # --- Strong scaling efficiency (optional) ---\n",
    "    plt.figure(figsize=(6,4))\n",
    "    for dtype, group in df.groupby(\"dtype\"):\n",
    "        # pick a fixed samples value\n",
    "        samples_val = group[\"samples\"].max()\n",
    "        subset = group[group[\"samples\"] == samples_val].sort_values(\"threads\")\n",
    "        T1 = subset.loc[subset[\"threads\"]==subset[\"threads\"].min(),\"runtime\"].values[0]\n",
    "        speedup = T1 / subset[\"runtime\"]\n",
    "        efficiency = speedup / subset[\"threads\"]\n",
    "        plt.plot(subset[\"threads\"], efficiency, marker=\"o\", label=f\"{dtype} (N={samples_val})\")\n",
    "    plt.xticks(sorted(df['threads'].unique()))\n",
    "    plt.xlabel(\"Threads\")\n",
    "    plt.ylabel(\"Parallel Efficiency\")\n",
    "    plt.title(\"Strong Scaling Efficiency\")\n",
    "    plt.legend()\n",
    "    plt.grid(True)\n",
    "    plt.tight_layout()\n",
    "    plt.show()\n",
    "    \n",
    "    # --- Precision plot: Error vs Samples ---\n",
    "    plt.figure(figsize=(6,4))\n",
    "    for dtype, group in df.groupby(\"dtype\"):\n",
    "        plt.loglog(group[\"samples\"], group[\"abs_error\"], marker=\"o\", label=dtype)\n",
    "    plt.xlabel(\"Samples (log scale)\")\n",
    "    plt.ylabel(\"Absolute Error (log scale)\")\n",
    "    plt.title(\"Precision vs Samples\")\n",
    "    plt.legend()\n",
    "    plt.grid(True, which=\"both\")\n",
    "    plt.tight_layout()\n",
    "    plt.show()\n",
    "\n",
    "plot_scaling_and_precision(df)"
   ]
  },
  {
   "cell_type": "markdown",
   "id": "fe342b4f",
   "metadata": {},
   "source": [
    "### Your turn now\n",
    "\n",
    "Customize [yaml_files/configs/pi_remote.yaml](yaml_files/configs/pi_remote.yaml) for your remote cluster.  \n",
    "Run experiments there and generate new plots.\n",
    "\n",
    "SbatchMan usage and key concept are the same even if running with SLURM or PBS.\n",
    "\n",
    "> Notice that keeping consistent configuration naming (`x_threads`)  \n",
    "> will allow to use the same jobs YAML file for multiple clusters\n",
    "\n",
    "If you run directly from terminal, use the [plots.py](plots.py) script."
   ]
  }
 ],
 "metadata": {
  "kernelspec": {
   "display_name": "base",
   "language": "python",
   "name": "python3"
  },
  "language_info": {
   "codemirror_mode": {
    "name": "ipython",
    "version": 3
   },
   "file_extension": ".py",
   "mimetype": "text/x-python",
   "name": "python",
   "nbconvert_exporter": "python",
   "pygments_lexer": "ipython3",
   "version": "3.13.2"
  }
 },
 "nbformat": 4,
 "nbformat_minor": 5
}
